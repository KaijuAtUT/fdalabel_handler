{
 "cells": [
  {
   "cell_type": "markdown",
   "metadata": {},
   "source": [
    "# PubChem から情報を取ってくる"
   ]
  },
  {
   "cell_type": "markdown",
   "metadata": {},
   "source": [
    "## 概要\n",
    "\n",
    "* Active ingredients から、不要な部分を除く\n",
    "* 長い単語から当てていき、PubChemPy で検索"
   ]
  },
  {
   "cell_type": "code",
   "execution_count": 14,
   "metadata": {},
   "outputs": [],
   "source": [
    "import pubchempy as pcp\n",
    "\n",
    "def find_all_longest_matches(input_text):\n",
    "    words = input_text.split()\n",
    "    n = len(words)\n",
    "    found_matches = []\n",
    "\n",
    "    # 部分文字列を生成して長さの降順で探索\n",
    "    for length in range(n, 0, -1):\n",
    "        for start in range(n - length + 1):  # 部分文字列の開始位置\n",
    "            query = \" \".join(words[start:start + length])\n",
    "            \n",
    "            results = pcp.get_compounds(query, 'name')\n",
    "            if results:\n",
    "                compound = results[0]\n",
    "                # マッチした化合物を保存\n",
    "                found_matches.append({\n",
    "                    \"Name\": query,\n",
    "                    \"CID\": compound.cid,\n",
    "                    \"SMILES\": compound.canonical_smiles\n",
    "                })\n",
    "                words[start:start + length] = [\"###\"] * length  # 該当箇所を置換（同じ範囲に重複しないため）\n",
    "    \n",
    "    return found_matches"
   ]
  },
  {
   "cell_type": "code",
   "execution_count": 15,
   "metadata": {},
   "outputs": [
    {
     "name": "stdout",
     "output_type": "stream",
     "text": [
      "Matched Query: Camphor\n",
      "Start Index: 2537\n",
      "Details: CC1(C2CCC1(C(=O)C2)C)C\n",
      "\n",
      "Matched Query: Menthol\n",
      "Start Index: 1254\n",
      "Details: CC1CCC(C(C1)O)C(C)C\n",
      "\n",
      "Matched Query: Wintergreen\n",
      "Start Index: 4133\n",
      "Details: COC(=O)C1=CC=CC=C1O\n",
      "\n"
     ]
    }
   ],
   "source": [
    "input_text = (\n",
    "    \"Active Ingredients Purpose Camphor 11% Topical Analgesic \"\n",
    "    \"Eucalyptus Oil 10% Anti-Inflammatory Menthol 8% Topical Analgesic \"\n",
    "    \"Wintergreen Oil (Methyl Salicylate) 10% Topical Analgesic\"\n",
    ")\n",
    "\n",
    "matches = find_all_longest_matches(input_text)\n",
    "\n",
    "for match in matches:\n",
    "    print(f\"Matched Query: {match['Name']}\")\n",
    "    print(f\"Start Index: {match['CID']}\")\n",
    "    print(f\"Details: {match['SMILES']}\\n\")"
   ]
  },
  {
   "cell_type": "code",
   "execution_count": 1,
   "metadata": {},
   "outputs": [
    {
     "name": "stderr",
     "output_type": "stream",
     "text": [
      "100%|██████████| 5/5 [01:33<00:00, 18.62s/it]\n"
     ]
    }
   ],
   "source": [
    "import pandas as pd\n",
    "import pubchempy as pcp\n",
    "from tqdm import tqdm\n",
    "\n",
    "# 入力ファイルの読み込み\n",
    "df = pd.read_csv(\"/workspace/ssd4t/yoshikawa/fdalabel_handler/workspace/active_ingredient.tsv\", sep=\"\\t\").head()\n",
    "lists = df[[\"ID\", \"ingredients\"]].values.tolist()\n",
    "\n",
    "# 化合物情報を検索してマッチを取得する関数\n",
    "def find_all_longest_matches(input_text):\n",
    "    words = input_text.split()\n",
    "    n = len(words)\n",
    "    found_matches = []\n",
    "\n",
    "    # 部分文字列を生成して長さの降順で探索\n",
    "    for length in range(n, 0, -1):\n",
    "        for start in range(n - length + 1):\n",
    "            query = \" \".join(words[start:start + length])\n",
    "\n",
    "            results = pcp.get_compounds(query, 'name')\n",
    "            if results:\n",
    "                compound = results[0]\n",
    "                # マッチした化合物を保存\n",
    "                found_matches.append({\n",
    "                    \"Name\": query,\n",
    "                    \"CID\": compound.cid,\n",
    "                    \"SMILES\": compound.canonical_smiles\n",
    "                })\n",
    "                words[start:start + length] = [\"###\"] * length  # 該当箇所を置換（同じ範囲に重複しないため） \n",
    "\n",
    "    return found_matches\n",
    "\n",
    "# 出力用のリスト\n",
    "output_data = []\n",
    "\n",
    "# 各IDとそのingredientsを処理\n",
    "for record in tqdm(lists):\n",
    "    id_value, ingredients = record\n",
    "    ingredient_list = ingredients.split(\", \")\n",
    "\n",
    "    for ingredient in ingredient_list:\n",
    "        matches = find_all_longest_matches(ingredient)\n",
    "        for match in matches:\n",
    "            output_data.append({\n",
    "                \"ID\": id_value,\n",
    "                \"Ingredient\": match[\"Name\"],\n",
    "                \"CID\": match[\"CID\"],\n",
    "                \"SMILES\": match[\"SMILES\"]\n",
    "            })\n",
    "\n",
    "# データフレームとして出力\n",
    "output_df = pd.DataFrame(output_data)\n",
    "output_df.to_csv(\"/workspace/ssd4t/yoshikawa/fdalabel_handler/workspace/matched_ingredients.tsv\", sep=\"\\t\", index=False)"
   ]
  },
  {
   "cell_type": "markdown",
   "metadata": {},
   "source": [
    "## データの途中の状態の確認など"
   ]
  },
  {
   "cell_type": "code",
   "execution_count": 25,
   "metadata": {},
   "outputs": [
    {
     "data": {
      "text/html": [
       "<div>\n",
       "<style scoped>\n",
       "    .dataframe tbody tr th:only-of-type {\n",
       "        vertical-align: middle;\n",
       "    }\n",
       "\n",
       "    .dataframe tbody tr th {\n",
       "        vertical-align: top;\n",
       "    }\n",
       "\n",
       "    .dataframe thead th {\n",
       "        text-align: right;\n",
       "    }\n",
       "</style>\n",
       "<table border=\"1\" class=\"dataframe\">\n",
       "  <thead>\n",
       "    <tr style=\"text-align: right;\">\n",
       "      <th></th>\n",
       "      <th>ID</th>\n",
       "      <th>ingredients</th>\n",
       "    </tr>\n",
       "  </thead>\n",
       "  <tbody>\n",
       "    <tr>\n",
       "      <th>0</th>\n",
       "      <td>7</td>\n",
       "      <td>['benzalkonium cl 0.13', 'lidocaine hcl 2.5']</td>\n",
       "    </tr>\n",
       "    <tr>\n",
       "      <th>1</th>\n",
       "      <td>9</td>\n",
       "      <td>[': adenoviren nosode 12c', 'cytomegalovirus n...</td>\n",
       "    </tr>\n",
       "    <tr>\n",
       "      <th>2</th>\n",
       "      <td>13</td>\n",
       "      <td>['(in each 1.25 ml) ibuprofen 50', '(nsaid)* *...</td>\n",
       "    </tr>\n",
       "    <tr>\n",
       "      <th>3</th>\n",
       "      <td>16</td>\n",
       "      <td>['titanium dioxide 9.0', 'zinc oxide 6.3', 'pu...</td>\n",
       "    </tr>\n",
       "    <tr>\n",
       "      <th>4</th>\n",
       "      <td>17</td>\n",
       "      <td>['(in each tablet) fexofenadine hcl usp']</td>\n",
       "    </tr>\n",
       "  </tbody>\n",
       "</table>\n",
       "</div>"
      ],
      "text/plain": [
       "   ID                                        ingredients\n",
       "0   7      ['benzalkonium cl 0.13', 'lidocaine hcl 2.5']\n",
       "1   9  [': adenoviren nosode 12c', 'cytomegalovirus n...\n",
       "2  13  ['(in each 1.25 ml) ibuprofen 50', '(nsaid)* *...\n",
       "3  16  ['titanium dioxide 9.0', 'zinc oxide 6.3', 'pu...\n",
       "4  17          ['(in each tablet) fexofenadine hcl usp']"
      ]
     },
     "execution_count": 25,
     "metadata": {},
     "output_type": "execute_result"
    }
   ],
   "source": [
    "df"
   ]
  },
  {
   "cell_type": "code",
   "execution_count": 40,
   "metadata": {},
   "outputs": [
    {
     "name": "stdout",
     "output_type": "stream",
     "text": [
      "[['Benzalkonium Cl 0.13, Lidocaine HCL 2.5'], [': Adenoviren Nosode 12C, Cytomegalovirus Nosode 18X, DNA 12X, Epstein-Barr Virus Nosode 16C, Hepatitis B Nosode 33X, Herpes Simplex 1 & 2 Nosode 15X, Human Herpesvirus 6A 15X, Human Herpesvirus 6B 15X, Influenzinum 12X, 200X.'], ['(in each 1.25 mL) Ibuprofen 50, (NSAID)* *nonsteroidal anti-inflammatory drug'], ['Titanium Dioxide 9.0, Zinc Oxide 6.3, Purpose: Sunscreen'], ['(in each tablet) Fexofenadine HCl USP']]\n"
     ]
    }
   ],
   "source": [
    "print(lists)"
   ]
  },
  {
   "cell_type": "code",
   "execution_count": 46,
   "metadata": {},
   "outputs": [
    {
     "name": "stderr",
     "output_type": "stream",
     "text": [
      "100%|██████████| 5/5 [00:00<00:00, 7931.74it/s]"
     ]
    },
    {
     "name": "stdout",
     "output_type": "stream",
     "text": [
      "Benzalkonium Cl 0.13\n",
      "Lidocaine HCL 2.5\n",
      ": Adenoviren Nosode 12C\n",
      "Cytomegalovirus Nosode 18X\n",
      "DNA 12X\n",
      "Epstein-Barr Virus Nosode 16C\n",
      "Hepatitis B Nosode 33X\n",
      "Herpes Simplex 1 & 2 Nosode 15X\n",
      "Human Herpesvirus 6A 15X\n",
      "Human Herpesvirus 6B 15X\n",
      "Influenzinum 12X\n",
      "200X.\n",
      "(in each 1.25 mL) Ibuprofen 50\n",
      "(NSAID)* *nonsteroidal anti-inflammatory drug\n",
      "Titanium Dioxide 9.0\n",
      "Zinc Oxide 6.3\n",
      "Purpose: Sunscreen\n",
      "(in each tablet) Fexofenadine HCl USP\n"
     ]
    },
    {
     "name": "stderr",
     "output_type": "stream",
     "text": [
      "\n"
     ]
    }
   ],
   "source": [
    "for names in tqdm(lists):\n",
    "    names = names[0].split(\", \")\n",
    "    for name in names:\n",
    "        print(name)"
   ]
  },
  {
   "cell_type": "code",
   "execution_count": 68,
   "metadata": {},
   "outputs": [
    {
     "name": "stdout",
     "output_type": "stream",
     "text": [
      "CID24526\n"
     ]
    }
   ],
   "source": [
    "import pubchempy as pcp\n",
    "from tqdm import tqdm\n",
    "results = pcp.get_compounds('cl', 'name')\n",
    "if results:\n",
    "    compound = results[0]\n",
    "    # マッチした化合物を保存\n",
    "    print(\n",
    "        \"CID\" + str(compound.cid)\n",
    "    )"
   ]
  },
  {
   "cell_type": "code",
   "execution_count": null,
   "metadata": {},
   "outputs": [],
   "source": []
  }
 ],
 "metadata": {
  "kernelspec": {
   "display_name": "test_venv",
   "language": "python",
   "name": "test_venv"
  },
  "language_info": {
   "codemirror_mode": {
    "name": "ipython",
    "version": 3
   },
   "file_extension": ".py",
   "mimetype": "text/x-python",
   "name": "python",
   "nbconvert_exporter": "python",
   "pygments_lexer": "ipython3",
   "version": "3.10.9"
  }
 },
 "nbformat": 4,
 "nbformat_minor": 2
}

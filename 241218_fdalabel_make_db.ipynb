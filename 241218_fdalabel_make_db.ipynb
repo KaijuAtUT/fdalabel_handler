{
 "cells": [
  {
   "cell_type": "markdown",
   "metadata": {},
   "source": [
    "# DB 化\n",
    "\n",
    "フィールドの説明は [ここ](https://open.fda.gov/apis/drug/label/searchable-fields/) から見られる。  \n",
    "20000 行で 600 MB とかっぽい。5000 行ごとに区切る。"
   ]
  },
  {
   "cell_type": "code",
   "execution_count": null,
   "metadata": {},
   "outputs": [],
   "source": [
    "import pandas as pd\n",
    "import sqlite3\n",
    "import os\n",
    "\n",
    "csv_file = \"/workspace/ssd4t/yoshikawa/fdalabel_handler/workspace/fdalabel_columns.csv\"  # カラム情報\n",
    "columns_info = pd.read_csv(csv_file)\n",
    "\n",
    "# TSVファイルが格納されているディレクトリ\n",
    "tsv_dir = \"/workspace/ssd4t/yoshikawa/fdalabel_handler/workspace/fdalabel_raw_df/\"\n",
    "\n",
    "chunk_index = 1\n",
    "\n",
    "tsv_files = [f for f in os.listdir(tsv_dir) if f.endswith(\".tsv\")]\n",
    "tsv_files.sort()\n",
    "\n",
    "# 通し番号（row_id）の初期値\n",
    "last_row_id = 1\n",
    "\n",
    "# ディレクトリ内のすべてのTSVファイルを処理\n",
    "for tsv_file in tsv_files:\n",
    "    if tsv_file.endswith(\".tsv\"):\n",
    "        tsv_file_path = os.path.join(tsv_dir, tsv_file)\n",
    "        \n",
    "        tsv_data = pd.read_csv(tsv_file_path, sep='\\t', low_memory=False)\n",
    "\n",
    "        # 除外しないカラムを選択\n",
    "        included_columns = columns_info[(columns_info['除外する'] == False)]['DLしたデータの列'].values\n",
    "        exist_columns = [col for col in included_columns if col in tsv_data.columns]\n",
    "\n",
    "        # data から除外しないカラムを抽出\n",
    "        tsv_data_filtered = tsv_data[exist_columns]\n",
    "\n",
    "        # CSVにあるがTSVにない列を追加（欠損値で埋める）\n",
    "        tsv_data_filtered = tsv_data_filtered.copy()\n",
    "        missing_columns = set(included_columns) - set(tsv_data_filtered.columns)\n",
    "        for col in missing_columns:\n",
    "            tsv_data_filtered[col] = None\n",
    "\n",
    "        # 列の順番をCSVに基づいて整理\n",
    "        tsv_data_filtered = tsv_data_filtered[included_columns]\n",
    "\n",
    "        # 通し番号（ID）を追加（ファイルを跨いで連続）\n",
    "        tsv_data_filtered.insert(0, 'row_id', range(last_row_id, last_row_id + len(tsv_data_filtered)))\n",
    "        last_row_id += len(tsv_data_filtered)\n",
    "\n",
    "        chunk_size = 5000  # 5000行ごとに分割\n",
    "        num_rows = len(tsv_data_filtered)\n",
    "        num_chunks = (num_rows // chunk_size) + 1\n",
    "        base_db_file = \"fdalabel\"  # DBファイル名\n",
    "        table_name = \"raw\"\n",
    "\n",
    "        chunk_start = 0\n",
    "\n",
    "        while chunk_start < num_rows:\n",
    "            db_file = f\"/workspace/ssd4t/yoshikawa/fdalabel_handler/workspace/fdalabel_db/{base_db_file}_{chunk_index:04d}.db\"\n",
    "            conn = sqlite3.connect(db_file)\n",
    "            cursor = conn.cursor()\n",
    "\n",
    "            # テーブルを作る\n",
    "            columns_sql = \"row_id INT, \" + \", \".join([f'\"{col}\" TEXT' for col in tsv_data_filtered.columns if col != 'row_id'])\n",
    "            create_table_sql = f\"CREATE TABLE IF NOT EXISTS {table_name} ({columns_sql});\"\n",
    "            cursor.execute(create_table_sql)\n",
    "\n",
    "            # 分割\n",
    "            chunk_end = min(chunk_start + chunk_size, num_rows)\n",
    "            chunk = tsv_data_filtered.iloc[chunk_start:chunk_end]\n",
    "\n",
    "            # Insert\n",
    "            column_names = \"row_id, \" + \", \".join([f'\"{col}\"' for col in chunk.columns if col != 'row_id'])\n",
    "            placeholders = \", \".join([\"?\" for _ in chunk.columns])\n",
    "            insert_sql = f'INSERT INTO \"{table_name}\" ({column_names}) VALUES ({placeholders});'\n",
    "\n",
    "            cursor.executemany(insert_sql, chunk.values.tolist())\n",
    "            conn.commit()\n",
    "\n",
    "            chunk_start = chunk_end\n",
    "            chunk_index += 1\n",
    "\n",
    "            conn.close()"
   ]
  },
  {
   "cell_type": "code",
   "execution_count": 6,
   "metadata": {},
   "outputs": [
    {
     "name": "stdout",
     "output_type": "stream",
     "text": [
      "CSVとTSVで一致するカラム: ['set_id', 'id', 'abuse', 'abuse_table', 'accessories', 'active_ingredient', 'active_ingredient_table', 'adverse_reactions', 'adverse_reactions_table', 'alarms', 'alarms_table', 'animal_pharmacology_and_or_toxicology', 'animal_pharmacology_and_or_toxicology_table', 'ask_doctor', 'ask_doctor_or_pharmacist', 'assembly_or_installation_instructions', 'boxed_warning', 'boxed_warning_table', 'carcinogenesis_and_mutagenesis_and_impairment_of_fertility', 'carcinogenesis_and_mutagenesis_and_impairment_of_fertility_table', 'cleaning', 'clinical_pharmacology', 'clinical_pharmacology_table', 'clinical_studies', 'clinical_studies_table', 'components', 'contraindications', 'contraindications_table', 'controlled_substance', 'dependence', 'description', 'description_table', 'disposal_and_waste_handling', 'do_not_use', 'do_not_use_table', 'dosage_and_administration', 'dosage_and_administration_table', 'dosage_forms_and_strengths', 'dosage_forms_and_strengths_table', 'drug_abuse_and_dependence', 'drug_abuse_and_dependence_table', 'drug_and_or_laboratory_test_interactions', 'drug_and_or_laboratory_test_interactions_table', 'drug_interactions', 'drug_interactions_table', 'effective_time', 'environmental_warning', 'food_safety_warning', 'general_precautions', 'general_precautions_table', 'geriatric_use', 'geriatric_use_table', 'health_care_provider_letter', 'health_care_provider_letter_table', 'health_claim', 'health_claim_table', 'how_supplied', 'how_supplied_table', 'inactive_ingredient', 'inactive_ingredient_table', 'indications_and_usage', 'indications_and_usage_table', 'information_for_owners_or_caregivers', 'information_for_patients', 'information_for_patients_table', 'instructions_for_use', 'instructions_for_use_table', 'intended_use_of_the_device', 'keep_out_of_reach_of_children', 'keep_out_of_reach_of_children_table', 'labor_and_delivery', 'laboratory_tests', 'laboratory_tests_table', 'mechanism_of_action', 'mechanism_of_action_table', 'microbiology', 'microbiology_table', 'nonclinical_toxicology', 'nonclinical_toxicology_table', 'nonteratogenic_effects', 'nursing_mothers', 'nursing_mothers_table', 'openfda.application_number', 'openfda.brand_name', 'openfda.generic_name', 'openfda.is_original_packager', 'openfda.manufacturer_name', 'openfda.nui', 'openfda.original_packager_product_ndc', 'openfda.package_ndc', 'openfda.pharm_class_cs', 'openfda.pharm_class_epc', 'openfda.pharm_class_moa', 'openfda.pharm_class_pe', 'openfda.product_ndc', 'openfda.product_type', 'openfda.route', 'openfda.rxcui', 'openfda.spl_id', 'openfda.spl_set_id', 'openfda.substance_name', 'openfda.unii', 'openfda.upc', 'other_safety_information', 'overdosage', 'overdosage_table', 'package_label_principal_display_panel', 'package_label_principal_display_panel_table', 'patient_medication_information', 'patient_medication_information_table', 'pediatric_use', 'pediatric_use_table', 'pharmacodynamics', 'pharmacodynamics_table', 'pharmacogenomics', 'pharmacokinetics', 'pharmacokinetics_table', 'precautions', 'precautions_table', 'pregnancy', 'pregnancy_or_breast_feeding', 'pregnancy_or_breast_feeding_table', 'pregnancy_table', 'purpose', 'purpose_table', 'questions', 'questions_table', 'recent_major_changes', 'recent_major_changes_table', 'references', 'references_table', 'risks', 'route', 'safe_handling_warning', 'spl_indexing_data_elements', 'spl_medguide', 'spl_medguide_table', 'spl_patient_package_insert', 'spl_patient_package_insert_table', 'spl_product_data_elements', 'spl_unclassified_section', 'spl_unclassified_section_table', 'statement_of_identity', 'statement_of_identity_table', 'stop_use', 'stop_use_table', 'storage_and_handling', 'storage_and_handling_table', 'summary_of_safety_and_effectiveness', 'teratogenic_effects', 'teratogenic_effects_table', 'troubleshooting', 'use_in_specific_populations', 'use_in_specific_populations_table', 'user_safety_warnings', 'version', 'veterinary_indications', 'warnings', 'warnings_and_cautions', 'warnings_and_cautions_table', 'warnings_table', 'when_using', 'when_using_table']\n",
      "TSVに存在しないCSVカラム: ['ask_doctor_or_pharmacist_table', 'ask_doctor_table', 'calibration_instructions', 'compatible_accessories', 'components_table', 'dependence_table', 'diagram_of_device', 'guaranteed_analysis_of_feed', 'information_for_owners_or_caregivers_table', 'labor_and_delivery_table', 'nonteratogenic_effects_table', 'other_safety_information_table', 'pharmacogenomics_table', 'residue_warning', 'risks_table', 'safe_handling_warning_table']\n"
     ]
    }
   ],
   "source": [
    "csv_columns = columns_info['DLしたデータの列'].values\n",
    "tsv_columns = tsv_data.columns.tolist()\n",
    "\n",
    "# 一致するカラムを表示\n",
    "common_columns = [col for col in csv_columns if col in tsv_columns]\n",
    "print(\"CSVとTSVで一致するカラム:\", common_columns)\n",
    "\n",
    "# 一致しないカラムを表示\n",
    "missing_in_tsv = [col for col in csv_columns if col not in tsv_columns]\n",
    "print(\"TSVに存在しないCSVカラム:\", missing_in_tsv)"
   ]
  },
  {
   "cell_type": "code",
   "execution_count": null,
   "metadata": {},
   "outputs": [],
   "source": []
  }
 ],
 "metadata": {
  "kernelspec": {
   "display_name": "test_venv",
   "language": "python",
   "name": "test_venv"
  },
  "language_info": {
   "codemirror_mode": {
    "name": "ipython",
    "version": 3
   },
   "file_extension": ".py",
   "mimetype": "text/x-python",
   "name": "python",
   "nbconvert_exporter": "python",
   "pygments_lexer": "ipython3",
   "version": "3.10.9"
  }
 },
 "nbformat": 4,
 "nbformat_minor": 2
}
